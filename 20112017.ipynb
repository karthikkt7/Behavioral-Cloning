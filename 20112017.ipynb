{
 "cells": [
  {
   "cell_type": "code",
   "execution_count": 1,
   "metadata": {},
   "outputs": [
    {
     "name": "stderr",
     "output_type": "stream",
     "text": [
      "Using TensorFlow backend.\n"
     ]
    }
   ],
   "source": [
    "import csv\n",
    "import cv2\n",
    "import numpy as np\n",
    "import matplotlib.pyplot as plt\n",
    "import sklearn\n",
    "from sklearn.model_selection import train_test_split\n",
    "\n",
    "from keras.models import Sequential\n",
    "from keras.layers import Flatten, Dense, Lambda, MaxPooling2D, Dropout, Cropping2D\n",
    "from keras.layers.convolutional import Conv2D\n",
    "from keras.callbacks import ModelCheckpoint"
   ]
  },
  {
   "cell_type": "code",
   "execution_count": 30,
   "metadata": {},
   "outputs": [],
   "source": [
    "Path1 = '/home/carnd/CarND-Behavioral-Cloning-P3/data/data/'\n",
    "#Path2 = '/home/carnd/CarND-Behavioral-Cloning-P3/data/data/'\n",
    "csvFile = Path1 + 'driving_log.csv'\n",
    "imgPath = Path1 + 'IMG/'\n"
   ]
  },
  {
   "cell_type": "code",
   "execution_count": 31,
   "metadata": {},
   "outputs": [],
   "source": [
    "#The first row is the heading. So i am skipping it\n",
    "Imgsamples = []\n",
    "with open(csvFile) as file:\n",
    "    reader = csv.reader(file)\n",
    "    next(reader)  \n",
    "    for line in reader:\n",
    "        Imgsamples.append(line)"
   ]
  },
  {
   "cell_type": "code",
   "execution_count": 32,
   "metadata": {
    "collapsed": true
   },
   "outputs": [],
   "source": [
    "trainSamples, validationSamples = train_test_split(Imgsamples, test_size=0.2)"
   ]
  },
  {
   "cell_type": "code",
   "execution_count": 40,
   "metadata": {
    "collapsed": true
   },
   "outputs": [],
   "source": [
    "steerCorrection = 0.25"
   ]
  },
  {
   "cell_type": "code",
   "execution_count": 41,
   "metadata": {
    "collapsed": true
   },
   "outputs": [],
   "source": [
    "#Generator data \n",
    "colorSpace =  cv2.COLOR_BGR2RGB\n",
    "def generator_data(samples, batch_size=32):\n",
    "    num_samples = len(samples)\n",
    "    while 1: # Loop forever so the generator never terminates\n",
    "        for offset in range(0, num_samples, batch_size):\n",
    "            batch_samples = samples[offset:offset+batch_size]\n",
    "\n",
    "            images = []\n",
    "            Steerangles = []\n",
    "            for batch_sample in batch_samples:\n",
    "\n",
    "                # center camera images and steering angle\n",
    "                name = imgPath+batch_sample[0].split('/')[-1]\n",
    "                center_image = cv2.cvtColor(cv2.imread(name), colorSpace)\n",
    "                center_angle = float(batch_sample[3])\n",
    "\n",
    "                # left camera images and steering angle\n",
    "                name = imgPath+batch_sample[1].split('/')[-1]\n",
    "                left_image = cv2.cvtColor(cv2.imread(name), colorSpace)\n",
    "                left_angle = center_angle + steerCorrection\n",
    "                left_angle = min(max(left_angle, -1.0), 1.0)\n",
    "\n",
    "                # right camera images and steering angle\n",
    "                name = imgPath+batch_sample[2].split('/')[-1]\n",
    "                right_image = cv2.cvtColor(cv2.imread(name), colorSpace)\n",
    "                right_angle = center_angle - steerCorrection\n",
    "                right_angle = min(max(right_angle, -1.0), 1.0)\n",
    "\n",
    "                \n",
    "                images.append(center_image)\n",
    "                Steerangles.append(center_angle)\n",
    "                images.append(left_image)\n",
    "                Steerangles.append(left_angle)\n",
    "                images.append(right_image)\n",
    "                Steerangles.append(right_angle)\n",
    "                \n",
    "            X_train_orig = np.array(images)\n",
    "            y_train_orig = np.array(Steerangles)\n",
    "            \n",
    "            # create flipped images\n",
    "            X_train_flip = np.array(np.fliplr(images))\n",
    "            y_train_flip =-np.array(Steerangles)\n",
    "            \n",
    "            X_train = np.concatenate((X_train_orig, X_train_flip), axis=0)\n",
    "            y_train = np.concatenate((y_train_orig, y_train_flip), axis=0)\n",
    "            \n",
    "            yield sklearn.utils.shuffle(X_train, y_train)"
   ]
  },
  {
   "cell_type": "code",
   "execution_count": 42,
   "metadata": {},
   "outputs": [],
   "source": [
    "train_generator = generator_data(trainSamples, batch_size=32)\n",
    "validation_generator = generator_data(validationSamples, batch_size=32)"
   ]
  },
  {
   "cell_type": "code",
   "execution_count": 43,
   "metadata": {},
   "outputs": [
    {
     "name": "stdout",
     "output_type": "stream",
     "text": [
      "(160, 320, 3)\n"
     ]
    }
   ],
   "source": [
    "IMG1 = cv2.cvtColor(cv2.imread(imgPath+trainSamples[0][0].split('/')[-1]), colorSpace)\n",
    "print(IMG1.shape)\n",
    "shape = IMG1.shape"
   ]
  },
  {
   "cell_type": "code",
   "execution_count": 44,
   "metadata": {
    "collapsed": true
   },
   "outputs": [],
   "source": [
    "\n",
    "model = Sequential()\n",
    "model.add(Lambda(lambda x: ((x/255.0)-0.5),\n",
    "                 input_shape=shape,\n",
    "                 name='lambda'))\n",
    "model.add(Cropping2D(cropping=((50,20),(0,0)),\n",
    "                     name='crop'))\n",
    "model.add(Conv2D(nb_filter=24,\n",
    "                 nb_row=5,\n",
    "                 nb_col=5,\n",
    "                 subsample=(2,2),\n",
    "                 border_mode='valid',\n",
    "                 activation='elu',\n",
    "                 name='conv1'))\n",
    "model.add(Conv2D(nb_filter=36,\n",
    "                 nb_row=5,\n",
    "                 nb_col=5,\n",
    "                 subsample=(2,2),\n",
    "                 border_mode='valid',\n",
    "                 activation='elu',\n",
    "                 name='conv2'))\n",
    "model.add(Conv2D(nb_filter=48,\n",
    "                 nb_row=5,\n",
    "                 nb_col=5,\n",
    "                 subsample=(2,2),\n",
    "                 border_mode='valid',\n",
    "                 activation='elu',\n",
    "                 name='conv3'))\n",
    "model.add(Conv2D(nb_filter=64,\n",
    "                 nb_row=3,\n",
    "                 nb_col=3,\n",
    "                 subsample=(1,1),\n",
    "                 border_mode='valid',\n",
    "                 activation='elu',\n",
    "                 name='conv4'))\n",
    "model.add(Conv2D(nb_filter=64,\n",
    "                 nb_row=3,\n",
    "                 nb_col=3,\n",
    "                 subsample=(1,1),\n",
    "                 border_mode='valid',\n",
    "                 activation='elu',\n",
    "                 name='conv5'))\n",
    "model.add(Flatten(name='flat'))\n",
    "model.add(Dropout(0.5, name='dropout'))\n",
    "model.add(Dense(100, activation='elu', name='dense1'))\n",
    "model.add(Dense(50, activation='elu', name='dense2'))\n",
    "model.add(Dense(10, activation='elu', name='dense3'))\n",
    "model.add(Dense(1, name='output'))\n"
   ]
  },
  {
   "cell_type": "code",
   "execution_count": 45,
   "metadata": {},
   "outputs": [],
   "source": [
    "\n",
    "model.compile(loss='mse',optimizer='adam')\n"
   ]
  },
  {
   "cell_type": "code",
   "execution_count": 46,
   "metadata": {
    "collapsed": true
   },
   "outputs": [],
   "source": [
    "save_filename = '20112017.h5'\n",
    "checkpoint = ModelCheckpoint(save_filename,\n",
    "                             monitor='val_loss',\n",
    "                             save_best_only=True,\n",
    "                             save_weights_only=False)\n",
    "callbacks_list = [checkpoint]\n"
   ]
  },
  {
   "cell_type": "code",
   "execution_count": 47,
   "metadata": {},
   "outputs": [
    {
     "name": "stdout",
     "output_type": "stream",
     "text": [
      "Epoch 1/6\n",
      "38568/38568 [==============================] - 101s - loss: 0.0426 - val_loss: 0.0254\n",
      "Epoch 2/6\n",
      "38568/38568 [==============================] - 93s - loss: 0.0240 - val_loss: 0.0233\n",
      "Epoch 3/6\n",
      "38568/38568 [==============================] - 93s - loss: 0.0207 - val_loss: 0.0222\n",
      "Epoch 4/6\n",
      "38568/38568 [==============================] - 93s - loss: 0.0186 - val_loss: 0.0208\n",
      "Epoch 5/6\n",
      "38568/38568 [==============================] - 93s - loss: 0.0169 - val_loss: 0.0199\n",
      "Epoch 6/6\n",
      "38568/38568 [==============================] - 93s - loss: 0.0157 - val_loss: 0.0198\n"
     ]
    }
   ],
   "source": [
    "history_obj =  model.fit_generator(train_generator,\n",
    "                                   samples_per_epoch=len(trainSamples)*6,\n",
    "                                   validation_data=validation_generator,\n",
    "                                   nb_val_samples=len(validationSamples)*6,\n",
    "                                   nb_epoch=6,\n",
    "                                   callbacks=callbacks_list)"
   ]
  },
  {
   "cell_type": "code",
   "execution_count": null,
   "metadata": {
    "collapsed": true
   },
   "outputs": [],
   "source": []
  }
 ],
 "metadata": {
  "kernelspec": {
   "display_name": "Python 3",
   "language": "python",
   "name": "python3"
  },
  "language_info": {
   "codemirror_mode": {
    "name": "ipython",
    "version": 3
   },
   "file_extension": ".py",
   "mimetype": "text/x-python",
   "name": "python",
   "nbconvert_exporter": "python",
   "pygments_lexer": "ipython3",
   "version": "3.5.2"
  },
  "widgets": {
   "state": {},
   "version": "1.1.2"
  }
 },
 "nbformat": 4,
 "nbformat_minor": 2
}
