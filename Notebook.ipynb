{
 "cells": [
  {
   "cell_type": "code",
   "execution_count": 35,
   "metadata": {},
   "outputs": [],
   "source": [
    "#Import necessary libraries\n",
    "import csv\n",
    "import cv2\n",
    "import numpy as np\n",
    "import matplotlib.pyplot as plt\n",
    "import sklearn\n",
    "from sklearn.model_selection import train_test_split\n",
    "\n",
    "from keras.models import Sequential\n",
    "from keras.layers import Flatten, Dense, Lambda, MaxPooling2D, Dropout, Cropping2D\n",
    "from keras.layers.convolutional import Conv2D\n",
    "from keras.callbacks import ModelCheckpoint"
   ]
  },
  {
   "cell_type": "code",
   "execution_count": 36,
   "metadata": {
    "collapsed": true
   },
   "outputs": [],
   "source": [
    "Path1 = '/home/carnd/CarND-Behavioral-Cloning-P3/data/data/'\n",
    "#Path2 = '/home/carnd/CarND-Behavioral-Cloning-P3/data/data/'\n",
    "csvFile = Path1 + 'driving_log.csv'\n",
    "imgPath = Path1 + 'IMG/'\n",
    "\n",
    "#The first row is the heading. So i am skipping it\n",
    "Imgsamples = []\n",
    "with open(csvFile) as file:\n",
    "    reader = csv.reader(file)\n",
    "    next(reader)  \n",
    "    for line in reader:\n",
    "        Imgsamples.append(line)"
   ]
  },
  {
   "cell_type": "code",
   "execution_count": 37,
   "metadata": {
    "collapsed": true
   },
   "outputs": [],
   "source": []
  },
  {
   "cell_type": "code",
   "execution_count": 38,
   "metadata": {
    "collapsed": true
   },
   "outputs": [],
   "source": [
    "#Split the train and test samples. 20% for test images\n",
    "trainSamples, validationSamples = train_test_split(Imgsamples, test_size=0.2) "
   ]
  },
  {
   "cell_type": "code",
   "execution_count": 39,
   "metadata": {
    "collapsed": true
   },
   "outputs": [],
   "source": [
    "steerCorrection = 0.35 #Steering correction for left and right camera images"
   ]
  },
  {
   "cell_type": "code",
   "execution_count": 40,
   "metadata": {
    "collapsed": true
   },
   "outputs": [],
   "source": [
    "#Generator data \n",
    "colorSpace =  cv2.COLOR_BGR2RGB #since cv2 uses BGR format. Got to know this from later projects ;-)\n",
    "def generator_data(samples, batch_size=32):\n",
    "    num_samples = len(samples) #Length of samples\n",
    "    while 1: # Loop forever so the generator never terminates\n",
    "        for offset in range(0, num_samples, batch_size):\n",
    "            batch_samples = samples[offset:offset+batch_size]\n",
    "\n",
    "            images = []\n",
    "            Steerangles = []\n",
    "            for batch_sample in batch_samples:\n",
    "\n",
    "                # center camera images and steering angle\n",
    "                name = imgPath+batch_sample[0].split('/')[-1]\n",
    "                center_image = cv2.cvtColor(cv2.imread(name), colorSpace)\n",
    "                center_angle = float(batch_sample[3])\n",
    "\n",
    "                # left camera images and steering angle\n",
    "                name = imgPath+batch_sample[1].split('/')[-1]\n",
    "                left_image = cv2.cvtColor(cv2.imread(name), colorSpace)\n",
    "                left_angle = center_angle + steerCorrection\n",
    "                left_angle = min(max(left_angle, -1.0), 1.0)\n",
    "\n",
    "                # right camera images and steering angle\n",
    "                name = imgPath+batch_sample[2].split('/')[-1]\n",
    "                right_image = cv2.cvtColor(cv2.imread(name), colorSpace)\n",
    "                right_angle = center_angle - steerCorrection\n",
    "                right_angle = min(max(right_angle, -1.0), 1.0)\n",
    "\n",
    "                \n",
    "                images.append(center_image)\n",
    "                Steerangles.append(center_angle)\n",
    "                images.append(left_image)\n",
    "                Steerangles.append(left_angle)\n",
    "                images.append(right_image)\n",
    "                Steerangles.append(right_angle)\n",
    "            #Collect all the camera images    \n",
    "            X_train_orig = np.array(images)\n",
    "            y_train_orig = np.array(Steerangles)\n",
    "            \n",
    "            # Flip the images\n",
    "            X_train_flip = np.array(np.fliplr(images))\n",
    "            y_train_flip =-np.array(Steerangles)\n",
    "            \n",
    "            #Concatenate the images\n",
    "            X_train = np.concatenate((X_train_orig, X_train_flip), axis=0)\n",
    "            y_train = np.concatenate((y_train_orig, y_train_flip), axis=0)\n",
    "            \n",
    "            yield sklearn.utils.shuffle(X_train, y_train)"
   ]
  },
  {
   "cell_type": "code",
   "execution_count": 41,
   "metadata": {
    "collapsed": true
   },
   "outputs": [],
   "source": [
    "#Data generator use\n",
    "train_generator = generator_data(trainSamples, batch_size=32)\n",
    "validation_generator = generator_data(validationSamples, batch_size=32)"
   ]
  },
  {
   "cell_type": "code",
   "execution_count": 42,
   "metadata": {},
   "outputs": [
    {
     "name": "stdout",
     "output_type": "stream",
     "text": [
      "(160, 320, 3)\n"
     ]
    }
   ],
   "source": [
    "IMG1 = cv2.cvtColor(cv2.imread(imgPath+trainSamples[0][0].split('/')[-1]), colorSpace)\n",
    "print(IMG1.shape)\n",
    "shape = IMG1.shape"
   ]
  },
  {
   "cell_type": "code",
   "execution_count": 43,
   "metadata": {},
   "outputs": [],
   "source": [
    "'''\n",
    "model = Sequential()\n",
    "model.add(Lambda(lambda x: ((x/127.0)-0.5),input_shape=shape,name='lambda'))\n",
    "model.add(Cropping2D(cropping=((60,30),(0,0)),name='crop'))\n",
    "model.add(Conv2D(nb_filter=24,nb_row=5,nb_col=5,subsample=(1,2),border_mode='valid',activation='elu',name='conv1'))\n",
    "model.add(Conv2D(nb_filter=36,nb_row=5,nb_col=5,subsample=(2,2),border_mode='valid',activation='elu',name='conv2'))\n",
    "model.add(Conv2D(nb_filter=48,nb_row=5,nb_col=5,subsample=(2,2),border_mode='valid',activation='elu',name='conv3'))\n",
    "model.add(Conv2D(nb_filter=64,nb_row=3,nb_col=3,subsample=(2,2),border_mode='valid',activation='elu',name='conv4'))\n",
    "model.add(Conv2D(nb_filter=64,nb_row=3,nb_col=3,subsample=(2,2),border_mode='valid',activation='elu',name='conv5'))\n",
    "model.add(Flatten(name='flat'))\n",
    "model.add(Dropout(0.5, name='dropout'))\n",
    "model.add(Dense(1164, activation='elu', name='dense1'))\n",
    "model.add(Dense(100, activation='elu', name='dense2'))\n",
    "model.add(Dense(50, activation='elu', name='dense3'))\n",
    "model.add(Dense(10, activation='elu', name='dense4'))\n",
    "model.add(Dense(1, name='output'))\n",
    "model.compile(loss='mse',optimizer='adam')\n",
    "'''"
   ]
  },
  {
   "cell_type": "code",
   "execution_count": 44,
   "metadata": {},
   "outputs": [
    {
     "data": {
      "text/plain": [
       "\"\\nmodel = Sequential()\\nmodel.add(Lambda(lambda x: ((x/255.0)-0.5),\\n                 input_shape=shape,\\n                 name='lambda'))\\nmodel.add(Cropping2D(cropping=((50,20),(0,0)),\\n                     name='crop'))\\nmodel.add(Conv2D(nb_filter=24,\\n                 nb_row=5,\\n                 nb_col=5,\\n                 subsample=(2,2),\\n                 border_mode='valid',\\n                 activation='elu',\\n                 name='conv1'))\\nmodel.add(Conv2D(nb_filter=36,\\n                 nb_row=5,\\n                 nb_col=5,\\n                 subsample=(2,2),\\n                 border_mode='valid',\\n                 activation='elu',\\n                 name='conv2'))\\nmodel.add(Conv2D(nb_filter=48,\\n                 nb_row=5,\\n                 nb_col=5,\\n                 subsample=(2,2),\\n                 border_mode='valid',\\n                 activation='elu',\\n                 name='conv3'))\\nmodel.add(Conv2D(nb_filter=64,\\n                 nb_row=3,\\n                 nb_col=3,\\n                 subsample=(2,2),\\n                 border_mode='valid',\\n                 activation='elu',\\n                 name='conv4'))\\nmodel.add(Conv2D(nb_filter=64,\\n                 nb_row=3,\\n                 nb_col=3,\\n                 subsample=(2,2),\\n                 border_mode='valid',\\n                 activation='elu',\\n                 name='conv5'))\\nmodel.add(Flatten(name='flat'))\\nmodel.add(Dropout(0.5, name='dropout'))\\nmodel.add(Dense(100, activation='elu', name='dense1'))\\nmodel.add(Dense(50, activation='elu', name='dense2'))\\nmodel.add(Dense(10, activation='elu', name='dense3'))\\nmodel.add(Dense(1, name='output'))\\nmodel.compile(loss='mse',optimizer='adam')\\n\""
      ]
     },
     "execution_count": 44,
     "metadata": {},
     "output_type": "execute_result"
    }
   ],
   "source": [
    "#Network architecture\n",
    "model = Sequential()\n",
    "model.add(Lambda(lambda x: ((x/255.0)-0.5),input_shape=shape,name='lambda'))\n",
    "model.add(Cropping2D(cropping=((50,20),(0,0)),name='crop'))\n",
    "model.add(Conv2D(nb_filter=24,nb_row=5,nb_col=5,subsample=(2,2),border_mode='valid',activation='elu',name='conv1'))\n",
    "model.add(Conv2D(nb_filter=36,nb_row=5,nb_col=5,subsample=(2,2),border_mode='valid',activation='elu',name='conv2'))\n",
    "model.add(Conv2D(nb_filter=48,nb_row=5,nb_col=5,subsample=(2,2),border_mode='valid',activation='elu',name='conv3'))\n",
    "model.add(Conv2D(nb_filter=64,nb_row=3,nb_col=3,subsample=(2,2),border_mode='valid',activation='elu',name='conv4'))\n",
    "model.add(Conv2D(nb_filter=64,nb_row=3,nb_col=3,subsample=(2,2),border_mode='valid',activation='elu',name='conv5'))\n",
    "model.add(Flatten(name='flat'))\n",
    "model.add(Dropout(0.5, name='dropout'))\n",
    "model.add(Dense(100, activation='elu', name='denseOne'))\n",
    "model.add(Dense(50, activation='elu', name='denseTwo'))\n",
    "model.add(Dense(10, activation='elu', name='denseThree'))\n",
    "model.add(Dense(1, name='output'))\n",
    "model.compile(loss='mse',optimizer='adam')\n"
   ]
  },
  {
   "cell_type": "code",
   "execution_count": 45,
   "metadata": {},
   "outputs": [
    {
     "data": {
      "text/plain": [
       "\"checkpoint = ModelCheckpoint(save_filename,\\n                             monitor='val_loss',\\n                             save_best_only=True,\\n                             save_weights_only=False)\\ncallbacks_list = [checkpoint]\""
      ]
     },
     "execution_count": 45,
     "metadata": {},
     "output_type": "execute_result"
    }
   ],
   "source": [
    "save_filename = 'model.h5'\n",
    "'''checkpoint = ModelCheckpoint(save_filename,monitor='val_loss',save_best_only=True,save_weights_only=False)\n",
    "callbacks_list = [checkpoint]'''\n"
   ]
  },
  {
   "cell_type": "code",
   "execution_count": 46,
   "metadata": {},
   "outputs": [
    {
     "name": "stdout",
     "output_type": "stream",
     "text": [
      "Epoch 1/6\n",
      "38568/38568 [==============================] - 116s - loss: 0.1396 - val_loss: 0.0586\n",
      "Epoch 2/6\n",
      "38568/38568 [==============================] - 116s - loss: 0.0554 - val_loss: 0.0500\n",
      "Epoch 3/6\n",
      "38568/38568 [==============================] - 116s - loss: 0.0485 - val_loss: 0.0454\n",
      "Epoch 4/6\n",
      "38568/38568 [==============================] - 116s - loss: 0.0445 - val_loss: 0.0421\n",
      "Epoch 5/6\n",
      "38568/38568 [==============================] - 116s - loss: 0.0417 - val_loss: 0.0396\n",
      "Epoch 6/6\n",
      "38568/38568 [==============================] - 116s - loss: 0.0399 - val_loss: 0.0376\n"
     ]
    }
   ],
   "source": [
    "history_obj =  model.fit_generator(train_generator,\n",
    "                                   samples_per_epoch=len(trainSamples)*6,\n",
    "                                   validation_data=validation_generator,\n",
    "                                   nb_val_samples=len(validationSamples)*6,\n",
    "                                   nb_epoch=6)\n",
    "model.save(save_filename)"
   ]
  },
  {
   "cell_type": "code",
   "execution_count": null,
   "metadata": {
    "collapsed": true
   },
   "outputs": [],
   "source": []
  }
 ],
 "metadata": {
  "kernelspec": {
   "display_name": "Python 3",
   "language": "python",
   "name": "python3"
  },
  "language_info": {
   "codemirror_mode": {
    "name": "ipython",
    "version": 3
   },
   "file_extension": ".py",
   "mimetype": "text/x-python",
   "name": "python",
   "nbconvert_exporter": "python",
   "pygments_lexer": "ipython3",
   "version": "3.5.2"
  },
  "widgets": {
   "state": {},
   "version": "1.1.2"
  }
 },
 "nbformat": 4,
 "nbformat_minor": 2
}
